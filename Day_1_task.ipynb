{
 "cells": [
  {
   "cell_type": "markdown",
   "metadata": {
    "id": "A05OG15VqOPF"
   },
   "source": [
    "# Task : Session 1\n",
    "\n",
    "Happy Learning!"
   ]
  },
  {
   "cell_type": "markdown",
   "metadata": {
    "id": "2doIXf8bqe9_"
   },
   "source": [
    "### Q1 :- Print the given strings as per stated format.\n",
    "\n",
    "**Given strings**: \n",
    "```\n",
    "\"Data\" \"Science\" \"Python\" \"Fundamental\" \n",
    "\"By\" \"Chitta Ranjan\"\n",
    "```\n",
    "**Output**: \n",
    "``` \n",
    "Data-Science-Python-Fundamental-By-Chitta Ranjan\n",
    "```\n",
    "\n",
    "Concept- [Seperator and End]"
   ]
  },
  {
   "cell_type": "code",
   "execution_count": 1,
   "metadata": {
    "id": "-em6d3KErDtp"
   },
   "outputs": [
    {
     "name": "stdout",
     "output_type": "stream",
     "text": [
      "Data-Science-Python-Fundamental-By-Chitta Ranjan\n"
     ]
    }
   ],
   "source": [
    "# Write your code here\n",
    "print(\"Data\",end='-')\n",
    "print(\"Science\",end='-')\n",
    "print(\"Python\",end='-')\n",
    "print(\"Fundamental\",end='-')\n",
    "print(\"By\",end='-')\n",
    "print(\"Chitta Ranjan\")"
   ]
  },
  {
   "cell_type": "markdown",
   "metadata": {
    "id": "1KUpN7ZTrC3_"
   },
   "source": [
    "### Q2:- Write a program that will convert celsius value to fahrenheit."
   ]
  },
  {
   "cell_type": "code",
   "execution_count": 2,
   "metadata": {
    "id": "yxKYhYQiqWfj"
   },
   "outputs": [
    {
     "name": "stdout",
     "output_type": "stream",
     "text": [
      "Enter Temp in Celsius:38\n",
      "Temperature in Fahrenheit is: 100.4\n"
     ]
    }
   ],
   "source": [
    "# Write your code here\n",
    "temp_cel = float(input(\"Enter Temp in Celsius:\"))\n",
    "temp_fahr = (temp_cel*1.8)+32\n",
    "print(\"Temperature in Fahrenheit is:\",temp_fahr)"
   ]
  },
  {
   "cell_type": "markdown",
   "metadata": {
    "id": "RLrOBBJurLB2"
   },
   "source": [
    "### Q3:- Take 2 numbers as input from the user.Write a program to swap the numbers without using any special python syntax."
   ]
  },
  {
   "cell_type": "code",
   "execution_count": 3,
   "metadata": {
    "id": "yPn7if0TrJ4F"
   },
   "outputs": [
    {
     "name": "stdout",
     "output_type": "stream",
     "text": [
      "Enter first number:5\n",
      "Enter Second number:7\n",
      "Swaped Number: 7 5\n"
     ]
    }
   ],
   "source": [
    "# Write your code here\n",
    "a = int(input(\"Enter first number:\"))\n",
    "b = int(input(\"Enter Second number:\"))\n",
    "a = a+b\n",
    "b = a-b\n",
    "a = a-b\n",
    "print(\"Swaped Number:\",a,b)"
   ]
  },
  {
   "cell_type": "markdown",
   "metadata": {
    "id": "waLCP1bjr7ML"
   },
   "source": [
    "### Q4:- Write a program to find the euclidean distance between two coordinates.Take both the coordinates from the user as input."
   ]
  },
  {
   "cell_type": "code",
   "execution_count": 5,
   "metadata": {
    "id": "Pl1Sv-xnrxnH"
   },
   "outputs": [
    {
     "name": "stdout",
     "output_type": "stream",
     "text": [
      "Enter the first point A\n",
      "5 6\n",
      "Enter the Second point B\n",
      "7 4\n",
      "Euclidean distance: 2.8284271247461903\n"
     ]
    }
   ],
   "source": [
    "# Write your code here\n",
    "import math\n",
    "\n",
    "print(\"Enter the first point A\")\n",
    "x1, y1 = map(int, input().split())\n",
    "\n",
    "print(\"Enter the Second point B\")\n",
    "x2, y2 = map(int, input().split())\n",
    "\n",
    "distance = math.sqrt((x2-x1)**2 + (y2-y1)**2)\n",
    "print(\"Euclidean distance:\",distance)"
   ]
  },
  {
   "cell_type": "markdown",
   "metadata": {
    "id": "VLrhg-FRsHjR"
   },
   "source": [
    "### Q5:- Write a program to find the simple interest when the value of principle,rate of interest and time period is provided by the user.\n"
   ]
  },
  {
   "cell_type": "code",
   "execution_count": 6,
   "metadata": {
    "id": "s40DlReZsTmY"
   },
   "outputs": [
    {
     "name": "stdout",
     "output_type": "stream",
     "text": [
      "Enter principal:500\n",
      "Enter rate of Interest:3.5\n",
      "Enter Time period in years:6\n",
      "Simple Interest: 105.0\n"
     ]
    }
   ],
   "source": [
    "# Write your code here\n",
    "principal = float(input(\"Enter principal:\"))\n",
    "interest_rate = float(input(\"Enter rate of Interest:\"))\n",
    "time = float(input(\"Enter Time period in years:\"))\n",
    "\n",
    "SI = (principal*interest_rate*time)/100\n",
    "print(\"Simple Interest:\",SI)"
   ]
  },
  {
   "cell_type": "markdown",
   "metadata": {
    "id": "LMy0BTUktYKa"
   },
   "source": [
    "### Q6:- Write a program that will tell the number of dogs and chicken are there when the user will provide the value of total heads and legs.\n",
    "\n",
    "For example:\n",
    "Input:\n",
    "heads -> 4\n",
    "legs -> 12\n",
    "<br>\n",
    "Output:\n",
    "dogs -> 2\n",
    "chicken -> 2\n",
    "\n",
    "\n",
    "\n"
   ]
  },
  {
   "cell_type": "code",
   "execution_count": 18,
   "metadata": {
    "id": "XSBvJoA4tXaG"
   },
   "outputs": [
    {
     "name": "stdout",
     "output_type": "stream",
     "text": [
      "Enter the number of heads: 60\n",
      "Enter the number of legs: 200\n",
      "Number of dogs: 40\n",
      "Number of chickens: 20\n"
     ]
    }
   ],
   "source": [
    "# Explanation\n",
    "\n",
    "# input (heads = 60, legs = 200)\n",
    "# Let total Number of dog = x\n",
    "# Total no of chicken = y\n",
    "# first eqn = x+y = 60\n",
    "# second eqn = 4x + 2y = 200\n",
    "# Then u can calculate x and y from above eqn\n",
    "\n",
    "# Write your code here\n",
    "heads = int(input(\"Enter the number of heads: \"))\n",
    "legs = int(input(\"Enter the number of legs: \"))\n",
    "\n",
    "# Each dog has 4 legs and each chicken has 2 legs\n",
    "# Let's use algebra to solve for the number of dogs and chickens\n",
    "# We have two equations:\n",
    "# dogs + chickens = heads\n",
    "# 4 * dogs + 2 * chickens = legs\n",
    "\n",
    "# Solve for dogs\n",
    "dogs = (legs - 2 * heads) / 2\n",
    "\n",
    "# Solve for chickens\n",
    "chickens = heads - dogs\n",
    "\n",
    "# Check if the solutions are valid (i.e. positive integers)\n",
    "if dogs >= 0 and chickens >= 0 and dogs == int(dogs) and chickens == int(chickens):\n",
    "    print(\"Number of dogs:\", int(dogs))\n",
    "    print(\"Number of chickens:\", int(chickens))\n",
    "else:\n",
    "    print(\"Invalid input.\")\n"
   ]
  },
  {
   "cell_type": "markdown",
   "metadata": {
    "id": "gJ7C5kZYt4BP"
   },
   "source": [
    "### Q7:- Write a program to find the sum of squares of first n natural numbers where n will be provided by the user."
   ]
  },
  {
   "cell_type": "code",
   "execution_count": 11,
   "metadata": {
    "id": "_tHsmEHzt2nX"
   },
   "outputs": [
    {
     "name": "stdout",
     "output_type": "stream",
     "text": [
      "Enter a number:9\n",
      "Sum of Squares: 285\n",
      "Enter a number:9\n",
      "Sum of Squares: 285.0\n"
     ]
    }
   ],
   "source": [
    "# Write your code here\n",
    "num = int(input(\"Enter a number:\"))\n",
    "sum = 0\n",
    "\n",
    "for i in range (num+1):\n",
    "    sum = sum+ i**2\n",
    "    \n",
    "print(\"Sum of Squares:\",sum)\n",
    "\n",
    "# or\n",
    "num = int(input(\"Enter a number:\"))\n",
    "sum = num*(num+1)*(2*num+1)/6\n",
    "print(\"Sum of Squares:\",sum)"
   ]
  },
  {
   "cell_type": "markdown",
   "metadata": {
    "id": "FHrMM7g-yG1h"
   },
   "source": [
    "### Q8:- Given the first 2 terms of an Arithmetic Series.Find the Nth term of the series. Assume all inputs are provided by the user."
   ]
  },
  {
   "cell_type": "code",
   "execution_count": 12,
   "metadata": {
    "id": "go4_kmZmyVSx"
   },
   "outputs": [
    {
     "name": "stdout",
     "output_type": "stream",
     "text": [
      "first term:2\n",
      "second term:4\n",
      "which term u want:7\n",
      "Nth term is: 14\n"
     ]
    }
   ],
   "source": [
    "# Write your code here\n",
    "a = int(input(\"first term:\"))\n",
    "b = int(input(\"second term:\")) \n",
    "d = b-a\n",
    "n= int(input(\"which term u want:\"))\n",
    "\n",
    "x = a + (n-1)*d\n",
    "print(\"Nth term is:\",x)"
   ]
  },
  {
   "cell_type": "markdown",
   "metadata": {
    "id": "QgyRX_es1oum"
   },
   "source": [
    "### Q9:- Given 2 fractions, find the sum of those 2 fractions.Take the numerator and denominator values of the fractions from the user."
   ]
  },
  {
   "cell_type": "code",
   "execution_count": 14,
   "metadata": {
    "id": "X05xqFS1yW16"
   },
   "outputs": [
    {
     "name": "stdout",
     "output_type": "stream",
     "text": [
      "Enter first numerator:5\n",
      "Enter first denominator:7\n",
      "Enter second numerator:9\n",
      "Enter second denominator:3\n",
      "sum: 3.71\n"
     ]
    }
   ],
   "source": [
    "# Write your code here\n",
    "nume1 = int(input(\"Enter first numerator:\"))\n",
    "denom1 = int(input(\"Enter first denominator:\"))\n",
    "\n",
    "nume2 = int(input(\"Enter second numerator:\"))\n",
    "denom2 = int(input(\"Enter second denominator:\"))\n",
    "\n",
    "sum = (nume1/denom1)+(nume2/denom2)\n",
    "print(\"sum:\",round(sum,2))"
   ]
  },
  {
   "cell_type": "markdown",
   "metadata": {
    "id": "eaql38ln13u7"
   },
   "source": [
    "### Q10:- Given the height, width and breadth of a milk tank, you have to find out how many glasses of milk can be obtained? Assume all the inputs are provided by the user.\n",
    "\n",
    "\n",
    "\n",
    "Input:<br>\n",
    "Dimensions of the milk tank<br>\n",
    "H = 20cm, L = 20cm, B = 20cm\n",
    "<br><br>\n",
    "Dimensions of the glass<br>\n",
    "h = 3cm, r = 1cm"
   ]
  },
  {
   "cell_type": "markdown",
   "metadata": {
    "id": "FePZqno74eWv"
   },
   "source": [
    "###### Write your code here"
   ]
  },
  {
   "cell_type": "code",
   "execution_count": 17,
   "metadata": {},
   "outputs": [
    {
     "name": "stdout",
     "output_type": "stream",
     "text": [
      "No of Glasses: 849.0\n"
     ]
    }
   ],
   "source": [
    "# Dimensions of the milk tank\n",
    "H = 20\n",
    "L = 20\n",
    "B = 20\n",
    "\n",
    "# Dimensions of the glass\n",
    "h = 3\n",
    "r = 1\n",
    "\n",
    "vol_milktank = H*L*B\n",
    "vol_glass = 3.14*(r**2)*h\n",
    "\n",
    "no_of_glass = vol_milktank/vol_glass\n",
    "print(\"No of Glasses:\",round(no_of_glass,0))"
   ]
  },
  {
   "cell_type": "code",
   "execution_count": null,
   "metadata": {},
   "outputs": [],
   "source": []
  }
 ],
 "metadata": {
  "colab": {
   "provenance": []
  },
  "kernelspec": {
   "display_name": "Python 3 (ipykernel)",
   "language": "python",
   "name": "python3"
  },
  "language_info": {
   "codemirror_mode": {
    "name": "ipython",
    "version": 3
   },
   "file_extension": ".py",
   "mimetype": "text/x-python",
   "name": "python",
   "nbconvert_exporter": "python",
   "pygments_lexer": "ipython3",
   "version": "3.10.9"
  }
 },
 "nbformat": 4,
 "nbformat_minor": 1
}
