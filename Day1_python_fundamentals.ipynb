{
  "nbformat": 4,
  "nbformat_minor": 0,
  "metadata": {
    "colab": {
      "provenance": []
    },
    "kernelspec": {
      "name": "python3",
      "display_name": "Python 3"
    },
    "language_info": {
      "name": "python"
    }
  },
  "cells": [
    {
      "cell_type": "markdown",
      "source": [
        "# 1. Python basics"
      ],
      "metadata": {
        "id": "YsLB36tWHEwz"
      }
    },
    {
      "cell_type": "code",
      "source": [
        "# Python is a case sensitive language\n",
        "print('Hello World')"
      ],
      "metadata": {
        "colab": {
          "base_uri": "https://localhost:8080/"
        },
        "id": "5l246_zLHIEV",
        "outputId": "d303b1e2-2f43-4631-cc9f-0ee057025acb"
      },
      "execution_count": 1,
      "outputs": [
        {
          "output_type": "stream",
          "name": "stdout",
          "text": [
            "Hello World\n"
          ]
        }
      ]
    },
    {
      "cell_type": "code",
      "source": [
        "print('Chitta Ranjan')"
      ],
      "metadata": {
        "colab": {
          "base_uri": "https://localhost:8080/"
        },
        "id": "OErEI7l8mCiC",
        "outputId": "6371d969-ab58-4d3a-c473-a52a3688a8ae"
      },
      "execution_count": 2,
      "outputs": [
        {
          "output_type": "stream",
          "name": "stdout",
          "text": [
            "Chitta Ranjan\n"
          ]
        }
      ]
    },
    {
      "cell_type": "code",
      "source": [
        "print(nitesh)"
      ],
      "metadata": {
        "colab": {
          "base_uri": "https://localhost:8080/",
          "height": 165
        },
        "id": "bGdSXNW0mHci",
        "outputId": "9f8a8fc7-242b-49aa-ee5d-500393fa4faf"
      },
      "execution_count": 3,
      "outputs": [
        {
          "output_type": "error",
          "ename": "NameError",
          "evalue": "ignored",
          "traceback": [
            "\u001b[0;31m---------------------------------------------------------------------------\u001b[0m",
            "\u001b[0;31mNameError\u001b[0m                                 Traceback (most recent call last)",
            "\u001b[0;32m<ipython-input-3-ccda0c60ab94>\u001b[0m in \u001b[0;36m<cell line: 1>\u001b[0;34m()\u001b[0m\n\u001b[0;32m----> 1\u001b[0;31m \u001b[0mprint\u001b[0m\u001b[0;34m(\u001b[0m\u001b[0mnitesh\u001b[0m\u001b[0;34m)\u001b[0m\u001b[0;34m\u001b[0m\u001b[0;34m\u001b[0m\u001b[0m\n\u001b[0m",
            "\u001b[0;31mNameError\u001b[0m: name 'nitesh' is not defined"
          ]
        }
      ]
    },
    {
      "cell_type": "code",
      "source": [
        "print(5)"
      ],
      "metadata": {
        "colab": {
          "base_uri": "https://localhost:8080/"
        },
        "id": "aFr6XX8bmTRe",
        "outputId": "754f2b70-2842-45a1-dc53-72275cdde534"
      },
      "execution_count": 4,
      "outputs": [
        {
          "output_type": "stream",
          "name": "stdout",
          "text": [
            "5\n"
          ]
        }
      ]
    },
    {
      "cell_type": "code",
      "source": [
        "print(7.7)"
      ],
      "metadata": {
        "colab": {
          "base_uri": "https://localhost:8080/"
        },
        "id": "fqM5TR1kmW9y",
        "outputId": "78acc139-db46-451c-926f-79b58cec0196"
      },
      "execution_count": 5,
      "outputs": [
        {
          "output_type": "stream",
          "name": "stdout",
          "text": [
            "7.7\n"
          ]
        }
      ]
    },
    {
      "cell_type": "code",
      "source": [
        "print(True)"
      ],
      "metadata": {
        "colab": {
          "base_uri": "https://localhost:8080/"
        },
        "id": "w6S9LAPnmZLN",
        "outputId": "01999a9a-248b-4226-9630-06c8e4c0eb05"
      },
      "execution_count": 6,
      "outputs": [
        {
          "output_type": "stream",
          "name": "stdout",
          "text": [
            "True\n"
          ]
        }
      ]
    },
    {
      "cell_type": "code",
      "source": [
        "print('Hello',1,5.5,True)"
      ],
      "metadata": {
        "colab": {
          "base_uri": "https://localhost:8080/"
        },
        "id": "y-NL43EFmi-n",
        "outputId": "3f143379-f3c3-454a-a0b2-1e376d90eca3"
      },
      "execution_count": 7,
      "outputs": [
        {
          "output_type": "stream",
          "name": "stdout",
          "text": [
            "Hello 1 5.5 True\n"
          ]
        }
      ]
    },
    {
      "cell_type": "code",
      "source": [
        "print('Hello',1,9.5,True,sep='/')"
      ],
      "metadata": {
        "colab": {
          "base_uri": "https://localhost:8080/"
        },
        "id": "APl7m_hom225",
        "outputId": "ebb21c36-9133-41df-80fb-d282e11fe38a"
      },
      "execution_count": 8,
      "outputs": [
        {
          "output_type": "stream",
          "name": "stdout",
          "text": [
            "Hello/1/9.5/True\n"
          ]
        }
      ]
    },
    {
      "cell_type": "code",
      "source": [
        "print('hello')\n",
        "print('world')"
      ],
      "metadata": {
        "colab": {
          "base_uri": "https://localhost:8080/"
        },
        "id": "7mGPkXASnXxx",
        "outputId": "d0f1f55e-a3d2-4508-abc9-483ecf5a1304"
      },
      "execution_count": 9,
      "outputs": [
        {
          "output_type": "stream",
          "name": "stdout",
          "text": [
            "hello\n",
            "world\n"
          ]
        }
      ]
    },
    {
      "cell_type": "code",
      "source": [
        "print('hello',end='-')\n",
        "print('world')"
      ],
      "metadata": {
        "colab": {
          "base_uri": "https://localhost:8080/"
        },
        "id": "0m4dTp6gngVj",
        "outputId": "b04a75dd-48ba-4d92-ddc1-b8d0ac8f26c0"
      },
      "execution_count": 10,
      "outputs": [
        {
          "output_type": "stream",
          "name": "stdout",
          "text": [
            "hello-world\n"
          ]
        }
      ]
    },
    {
      "cell_type": "markdown",
      "source": [
        "# 2. Data Types"
      ],
      "metadata": {
        "id": "BzuI6KObHLBH"
      }
    },
    {
      "cell_type": "code",
      "source": [
        "# Integer\n",
        "print(8)\n",
        "# 1*10^308\n",
        "print(1e308)"
      ],
      "metadata": {
        "colab": {
          "base_uri": "https://localhost:8080/"
        },
        "id": "0AD2yELLHOD5",
        "outputId": "52b1ad3d-d8aa-42d5-cd96-8c70117ffa88"
      },
      "execution_count": 11,
      "outputs": [
        {
          "output_type": "stream",
          "name": "stdout",
          "text": [
            "8\n",
            "1e+308\n"
          ]
        }
      ]
    },
    {
      "cell_type": "code",
      "source": [
        "# Decimal/Float\n",
        "print(7.55)\n",
        "print(1.7e309)"
      ],
      "metadata": {
        "colab": {
          "base_uri": "https://localhost:8080/"
        },
        "id": "6zf6tCPNoZqc",
        "outputId": "04c6a0fb-4f12-4832-d1a3-c738e0729cb2"
      },
      "execution_count": 12,
      "outputs": [
        {
          "output_type": "stream",
          "name": "stdout",
          "text": [
            "7.55\n",
            "inf\n"
          ]
        }
      ]
    },
    {
      "cell_type": "code",
      "source": [
        "# Boolean\n",
        "print(True)\n",
        "print(False)"
      ],
      "metadata": {
        "colab": {
          "base_uri": "https://localhost:8080/"
        },
        "id": "VN8v8HEQoZ3X",
        "outputId": "55e26437-e24d-4670-96e1-d59f21390e47"
      },
      "execution_count": 13,
      "outputs": [
        {
          "output_type": "stream",
          "name": "stdout",
          "text": [
            "True\n",
            "False\n"
          ]
        }
      ]
    },
    {
      "cell_type": "code",
      "source": [
        "# Text/String\n",
        "print('Hello World')"
      ],
      "metadata": {
        "colab": {
          "base_uri": "https://localhost:8080/"
        },
        "id": "NEwaubEvpJen",
        "outputId": "c697f376-03d9-4dab-c7f9-8abce2d0325b"
      },
      "execution_count": 14,
      "outputs": [
        {
          "output_type": "stream",
          "name": "stdout",
          "text": [
            "Hello World\n"
          ]
        }
      ]
    },
    {
      "cell_type": "code",
      "source": [
        "# complex\n",
        "print(5+6j)"
      ],
      "metadata": {
        "colab": {
          "base_uri": "https://localhost:8080/"
        },
        "id": "L60DWHUVpQzj",
        "outputId": "c17e3d0f-3567-40ef-a7e9-a84bf8cde000"
      },
      "execution_count": 15,
      "outputs": [
        {
          "output_type": "stream",
          "name": "stdout",
          "text": [
            "(5+6j)\n"
          ]
        }
      ]
    },
    {
      "cell_type": "code",
      "source": [
        "# List-> C-> Array\n",
        "print([1,2,3,4,5])"
      ],
      "metadata": {
        "colab": {
          "base_uri": "https://localhost:8080/"
        },
        "id": "u0qI-mUZpWRh",
        "outputId": "55c678a4-3a14-4709-bce5-089484ef5373"
      },
      "execution_count": 16,
      "outputs": [
        {
          "output_type": "stream",
          "name": "stdout",
          "text": [
            "[1, 2, 3, 4, 5]\n"
          ]
        }
      ]
    },
    {
      "cell_type": "code",
      "source": [
        "# Tuple\n",
        "print((1,2,3,4,5))"
      ],
      "metadata": {
        "colab": {
          "base_uri": "https://localhost:8080/"
        },
        "id": "Futbt8RJpefw",
        "outputId": "0d361a7c-8b72-4065-ec0a-5432cccae588"
      },
      "execution_count": 17,
      "outputs": [
        {
          "output_type": "stream",
          "name": "stdout",
          "text": [
            "(1, 2, 3, 4, 5)\n"
          ]
        }
      ]
    },
    {
      "cell_type": "code",
      "source": [
        "# Sets\n",
        "print({1,2,3,4,5})"
      ],
      "metadata": {
        "colab": {
          "base_uri": "https://localhost:8080/"
        },
        "id": "WW-etE4BplMR",
        "outputId": "85ee6e55-54c7-4979-e13d-df9ece37a1d9"
      },
      "execution_count": 18,
      "outputs": [
        {
          "output_type": "stream",
          "name": "stdout",
          "text": [
            "{1, 2, 3, 4, 5}\n"
          ]
        }
      ]
    },
    {
      "cell_type": "code",
      "source": [
        "# Dictionary\n",
        "print({'name':'Nitish','gender':'Male','weight':70})"
      ],
      "metadata": {
        "colab": {
          "base_uri": "https://localhost:8080/"
        },
        "id": "ssWbznaaprT6",
        "outputId": "4190c645-78b3-49ad-c54b-1d63d3982e33"
      },
      "execution_count": 19,
      "outputs": [
        {
          "output_type": "stream",
          "name": "stdout",
          "text": [
            "{'name': 'Nitish', 'gender': 'Male', 'weight': 70}\n"
          ]
        }
      ]
    },
    {
      "cell_type": "code",
      "source": [
        "# type\n",
        "print(type([1,2,3]))\n",
        "print(type(3.5))\n",
        "print(type((1,2,3)))\n",
        "print(type({1,2,3}))"
      ],
      "metadata": {
        "colab": {
          "base_uri": "https://localhost:8080/"
        },
        "id": "NAJzbOAsq3bG",
        "outputId": "d83b0d88-e731-4a5d-92bc-f046a5f58860"
      },
      "execution_count": 20,
      "outputs": [
        {
          "output_type": "stream",
          "name": "stdout",
          "text": [
            "<class 'list'>\n",
            "<class 'float'>\n",
            "<class 'tuple'>\n",
            "<class 'set'>\n"
          ]
        }
      ]
    },
    {
      "cell_type": "markdown",
      "source": [
        "# 3. Variables (Containers for future use)"
      ],
      "metadata": {
        "id": "kYD63MF7HOyJ"
      }
    },
    {
      "cell_type": "code",
      "source": [
        "# Static Vs Dynamic Typing\n",
        "# Static Vs Dynamic Binding\n",
        "# stylish declaration techniques"
      ],
      "metadata": {
        "id": "op579nCUHQ24"
      },
      "execution_count": 21,
      "outputs": []
    },
    {
      "cell_type": "code",
      "source": [
        "#variable\n",
        "name = 'chitta'\n",
        "print(name)\n",
        "\n",
        "a = 5\n",
        "b = 6\n",
        "print(a + b)"
      ],
      "metadata": {
        "colab": {
          "base_uri": "https://localhost:8080/"
        },
        "id": "CGybFhzvrjB6",
        "outputId": "27cd0a56-0d1e-4124-c3ac-21ecc85541ae"
      },
      "execution_count": 22,
      "outputs": [
        {
          "output_type": "stream",
          "name": "stdout",
          "text": [
            "chitta\n",
            "11\n"
          ]
        }
      ]
    },
    {
      "cell_type": "markdown",
      "source": [
        "### Dynamic Typing (Where we don't tell the compiler/interpreter about datatypes)\n",
        "a = 5\n",
        "### Static Typing (In this Languages require us to declare the data types of our variables before we use them)\n",
        "int a = 5\n"
      ],
      "metadata": {
        "id": "2gOuTkuyOWQ8"
      }
    },
    {
      "cell_type": "markdown",
      "source": [
        "### Dynamic Binding (When data type of the object is determined at runtime)\n",
        "a = 5\n",
        "print(a)\n",
        "a = 'nitish'\n",
        "print(a)\n",
        "\n",
        "### Static Binding (When type of the object is determined at compile time, you cant change data type through out program)\n",
        "int a = 5"
      ],
      "metadata": {
        "id": "ung8iBPaPmBy"
      }
    },
    {
      "cell_type": "code",
      "source": [
        "a = 1\n",
        "b = 2\n",
        "c = 3\n",
        "print(a,b,c)"
      ],
      "metadata": {
        "colab": {
          "base_uri": "https://localhost:8080/"
        },
        "id": "-PObryFetHAE",
        "outputId": "6aadbbc1-7759-4ed5-c634-c725fcff3149"
      },
      "execution_count": 24,
      "outputs": [
        {
          "output_type": "stream",
          "name": "stdout",
          "text": [
            "1 2 3\n"
          ]
        }
      ]
    },
    {
      "cell_type": "code",
      "source": [
        "a,b,c = 1,2,3\n",
        "print(a,b,c)"
      ],
      "metadata": {
        "colab": {
          "base_uri": "https://localhost:8080/"
        },
        "id": "AYkxWEMItN9K",
        "outputId": "04a8b1d6-d3aa-4d78-943a-eded21ff736b"
      },
      "execution_count": 25,
      "outputs": [
        {
          "output_type": "stream",
          "name": "stdout",
          "text": [
            "1 2 3\n"
          ]
        }
      ]
    },
    {
      "cell_type": "code",
      "source": [
        "a=b=c= 5\n",
        "print(a,b,c)"
      ],
      "metadata": {
        "colab": {
          "base_uri": "https://localhost:8080/"
        },
        "id": "gcaARQh6tUtP",
        "outputId": "a840dfff-1d54-43b8-fec9-3de53aeded0b"
      },
      "execution_count": 26,
      "outputs": [
        {
          "output_type": "stream",
          "name": "stdout",
          "text": [
            "5 5 5\n"
          ]
        }
      ]
    },
    {
      "cell_type": "markdown",
      "source": [
        "# Comments"
      ],
      "metadata": {
        "id": "yFj92Q4FubDk"
      }
    },
    {
      "cell_type": "code",
      "source": [
        "# this is a comment\n",
        "# second line\n",
        "a = 4\n",
        "b = 6 # like this\n",
        "# second comment\n",
        "print(a+b)"
      ],
      "metadata": {
        "colab": {
          "base_uri": "https://localhost:8080/"
        },
        "id": "4FJF20FiudCO",
        "outputId": "d9d40957-fbc1-4aae-8595-bfb907f9a5da"
      },
      "execution_count": 27,
      "outputs": [
        {
          "output_type": "stream",
          "name": "stdout",
          "text": [
            "10\n"
          ]
        }
      ]
    },
    {
      "cell_type": "markdown",
      "source": [
        "# 4. Keywords & Identifiers"
      ],
      "metadata": {
        "id": "jMHr-5raHRpW"
      }
    },
    {
      "cell_type": "markdown",
      "source": [
        "#### Keywords (Reserved words that cant be used as variable names, fuction names or any other identifiers)\n",
        "\n",
        "False,\tawait,\telse,\timport,\tpass,\n",
        "None,\tbreak,\texcept,\tin,\traise,\n",
        "True,\tclass,\tfinally,\tis,\treturn,\n",
        "and,\tcontinue,\tfor,\tlambda,\ttry,\n",
        "as,\tdef,\tfrom,\tnonlocal,\twhile,\n",
        "assert,\tdel,\tglobal,\tnot,\twith,\n",
        "async,\telif,\tif,\tor,\tyield"
      ],
      "metadata": {
        "id": "jrffP4AoQ4t1"
      }
    },
    {
      "cell_type": "code",
      "source": [
        "# Identifiers\n",
        "# You can't start with a digit\n",
        "name1 = 'Chitta'\n",
        "print(name1)\n",
        "# You can use special chars -> _\n",
        "_ = 'Chitta'\n",
        "print(_)\n",
        "# identiers can not be keyword"
      ],
      "metadata": {
        "colab": {
          "base_uri": "https://localhost:8080/"
        },
        "id": "5EFqNEfpwwS5",
        "outputId": "252c61fd-e170-4cfe-a16f-b351f5f25074"
      },
      "execution_count": 34,
      "outputs": [
        {
          "output_type": "stream",
          "name": "stdout",
          "text": [
            "Chitta\n",
            "Chitta\n"
          ]
        }
      ]
    },
    {
      "cell_type": "markdown",
      "source": [
        "# Temp Heading"
      ],
      "metadata": {
        "id": "YkAqDv9Dwxcv"
      }
    },
    {
      "cell_type": "markdown",
      "source": [
        "# 5. User Input"
      ],
      "metadata": {
        "id": "EsWPc3AvHYTJ"
      }
    },
    {
      "cell_type": "code",
      "source": [
        "# Static Vs Dynamic\n",
        "input('Enter Email:')"
      ],
      "metadata": {
        "colab": {
          "base_uri": "https://localhost:8080/",
          "height": 53
        },
        "id": "seRvw18RHhIo",
        "outputId": "343ebbef-484d-46e3-8880-fa6a56c4e3d7"
      },
      "execution_count": 32,
      "outputs": [
        {
          "name": "stdout",
          "output_type": "stream",
          "text": [
            "Enter Email:abc@gmail.com\n"
          ]
        },
        {
          "output_type": "execute_result",
          "data": {
            "text/plain": [
              "'abc@gmail.com'"
            ],
            "application/vnd.google.colaboratory.intrinsic+json": {
              "type": "string"
            }
          },
          "metadata": {},
          "execution_count": 32
        }
      ]
    },
    {
      "cell_type": "code",
      "source": [
        "# take input from users and store them in a variable\n",
        "fnum = int(input('enter first number'))\n",
        "snum = int(input('enter second number'))\n",
        "#print(type(fnum),type(snum))\n",
        "# add the 2 variables\n",
        "result = fnum + snum\n",
        "# print the result\n",
        "print(result)\n",
        "print(type(fnum))"
      ],
      "metadata": {
        "colab": {
          "base_uri": "https://localhost:8080/"
        },
        "id": "HDIZMv91zbXY",
        "outputId": "4bf64d6a-5e74-4751-a819-e6d180851069"
      },
      "execution_count": 33,
      "outputs": [
        {
          "output_type": "stream",
          "name": "stdout",
          "text": [
            "enter first number5\n",
            "enter second number10\n",
            "15\n",
            "<class 'int'>\n"
          ]
        }
      ]
    },
    {
      "cell_type": "markdown",
      "source": [
        "# 6. Type Conversion"
      ],
      "metadata": {
        "id": "TKQ78geyHhz7"
      }
    },
    {
      "cell_type": "code",
      "source": [
        "# Implicit Vs Explicit\n",
        "print(5+5.6)\n",
        "print(type(5),type(5.6))\n",
        "\n",
        "print(4 + '4')"
      ],
      "metadata": {
        "colab": {
          "base_uri": "https://localhost:8080/",
          "height": 235
        },
        "id": "BEuLxINMHnzk",
        "outputId": "3a30ae0b-ea43-47ad-f122-d396d8ffb889"
      },
      "execution_count": 35,
      "outputs": [
        {
          "output_type": "stream",
          "name": "stdout",
          "text": [
            "10.6\n",
            "<class 'int'> <class 'float'>\n"
          ]
        },
        {
          "output_type": "error",
          "ename": "TypeError",
          "evalue": "ignored",
          "traceback": [
            "\u001b[0;31m---------------------------------------------------------------------------\u001b[0m",
            "\u001b[0;31mTypeError\u001b[0m                                 Traceback (most recent call last)",
            "\u001b[0;32m<ipython-input-35-72e5c45cdb6f>\u001b[0m in \u001b[0;36m<cell line: 5>\u001b[0;34m()\u001b[0m\n\u001b[1;32m      3\u001b[0m \u001b[0mprint\u001b[0m\u001b[0;34m(\u001b[0m\u001b[0mtype\u001b[0m\u001b[0;34m(\u001b[0m\u001b[0;36m5\u001b[0m\u001b[0;34m)\u001b[0m\u001b[0;34m,\u001b[0m\u001b[0mtype\u001b[0m\u001b[0;34m(\u001b[0m\u001b[0;36m5.6\u001b[0m\u001b[0;34m)\u001b[0m\u001b[0;34m)\u001b[0m\u001b[0;34m\u001b[0m\u001b[0;34m\u001b[0m\u001b[0m\n\u001b[1;32m      4\u001b[0m \u001b[0;34m\u001b[0m\u001b[0m\n\u001b[0;32m----> 5\u001b[0;31m \u001b[0mprint\u001b[0m\u001b[0;34m(\u001b[0m\u001b[0;36m4\u001b[0m \u001b[0;34m+\u001b[0m \u001b[0;34m'4'\u001b[0m\u001b[0;34m)\u001b[0m\u001b[0;34m\u001b[0m\u001b[0;34m\u001b[0m\u001b[0m\n\u001b[0m",
            "\u001b[0;31mTypeError\u001b[0m: unsupported operand type(s) for +: 'int' and 'str'"
          ]
        }
      ]
    },
    {
      "cell_type": "code",
      "source": [
        "# Explicit\n",
        "# str -> int\n",
        "#int(4+5j)\n",
        "\n",
        "# int to str\n",
        "str(5)\n",
        "\n",
        "# float\n",
        "float(4)"
      ],
      "metadata": {
        "colab": {
          "base_uri": "https://localhost:8080/"
        },
        "id": "-dyXjVl7115d",
        "outputId": "f4f5e47a-7fa2-45d1-a5bd-d7bfcb40505e"
      },
      "execution_count": 36,
      "outputs": [
        {
          "output_type": "execute_result",
          "data": {
            "text/plain": [
              "4.0"
            ]
          },
          "metadata": {},
          "execution_count": 36
        }
      ]
    },
    {
      "cell_type": "markdown",
      "source": [
        "# 7. Literals"
      ],
      "metadata": {
        "id": "7skMGSSFHoWw"
      }
    },
    {
      "cell_type": "code",
      "source": [
        "a = 0b1010 #Binary Literals\n",
        "b = 100 #Decimal Literal \n",
        "c = 0o310 #Octal Literal\n",
        "d = 0x12c #Hexadecimal Literal\n",
        "\n",
        "#Float Literal\n",
        "float_1 = 10.5 \n",
        "float_2 = 1.5e2 # 1.5 * 10^2\n",
        "float_3 = 1.5e-3 # 1.5 * 10^-3\n",
        "\n",
        "#Complex Literal \n",
        "x = 3.14j\n",
        "\n",
        "print(a, b, c, d)\n",
        "print(float_1, float_2,float_3)\n",
        "print(x, x.imag, x.real)"
      ],
      "metadata": {
        "id": "4Q6wfNw1Huao",
        "colab": {
          "base_uri": "https://localhost:8080/"
        },
        "outputId": "9aefd434-8eb5-49e4-9889-b1b259eb8b7c"
      },
      "execution_count": 37,
      "outputs": [
        {
          "output_type": "stream",
          "name": "stdout",
          "text": [
            "10 100 200 300\n",
            "10.5 150.0 0.0015\n",
            "3.14j 3.14 0.0\n"
          ]
        }
      ]
    },
    {
      "cell_type": "code",
      "source": [
        "# binary\n",
        "x = 3.14j\n",
        "print(x.imag)"
      ],
      "metadata": {
        "colab": {
          "base_uri": "https://localhost:8080/"
        },
        "id": "8UhbuqqD4X4x",
        "outputId": "76201a46-4549-48b3-99a9-3908ed7a8fb8"
      },
      "execution_count": 38,
      "outputs": [
        {
          "output_type": "stream",
          "name": "stdout",
          "text": [
            "3.14\n"
          ]
        }
      ]
    },
    {
      "cell_type": "code",
      "source": [
        "string = 'This is Python'\n",
        "strings = \"This is Python\"\n",
        "char = \"C\"\n",
        "multiline_str = \"\"\"This is a multiline string with more than one line code.\"\"\"\n",
        "unicode = u\"\\U0001f600\\U0001F606\\U0001F923\"\n",
        "raw_str = r\"raw \\n string\"\n",
        "\n",
        "print(string)\n",
        "print(strings)\n",
        "print(char)\n",
        "print(multiline_str)\n",
        "print(unicode)\n",
        "print(raw_str)"
      ],
      "metadata": {
        "colab": {
          "base_uri": "https://localhost:8080/"
        },
        "id": "gPIDz0f6bwc1",
        "outputId": "084b7d56-0d4a-42c1-f6f3-bcc011e75490"
      },
      "execution_count": 39,
      "outputs": [
        {
          "output_type": "stream",
          "name": "stdout",
          "text": [
            "This is Python\n",
            "This is Python\n",
            "C\n",
            "This is a multiline string with more than one line code.\n",
            "😀😆🤣\n",
            "raw \\n string\n"
          ]
        }
      ]
    },
    {
      "cell_type": "code",
      "source": [
        "a = True + 4\n",
        "b = False + 10\n",
        "\n",
        "print(\"a:\", a)\n",
        "print(\"b:\", b)"
      ],
      "metadata": {
        "colab": {
          "base_uri": "https://localhost:8080/"
        },
        "id": "78PBluZub3vT",
        "outputId": "5d0d01d4-efc8-4989-b271-af4f0edf577b"
      },
      "execution_count": 40,
      "outputs": [
        {
          "output_type": "stream",
          "name": "stdout",
          "text": [
            "a: 5\n",
            "b: 10\n"
          ]
        }
      ]
    },
    {
      "cell_type": "code",
      "source": [
        "k = None\n",
        "a = 5\n",
        "b = 6\n",
        "print('Program exe')"
      ],
      "metadata": {
        "colab": {
          "base_uri": "https://localhost:8080/"
        },
        "id": "g9ANbWx_b6q1",
        "outputId": "c37c4d91-3a00-4a16-95cc-085eb7e70cf4"
      },
      "execution_count": 41,
      "outputs": [
        {
          "output_type": "stream",
          "name": "stdout",
          "text": [
            "Program exe\n"
          ]
        }
      ]
    },
    {
      "cell_type": "code",
      "source": [],
      "metadata": {
        "id": "RivuEXxaH4dZ"
      },
      "execution_count": 42,
      "outputs": []
    }
  ]
}